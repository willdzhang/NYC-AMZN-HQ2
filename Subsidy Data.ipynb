{
 "cells": [
  {
   "cell_type": "code",
   "execution_count": 1,
   "metadata": {},
   "outputs": [],
   "source": [
    "import pandas as pd\n",
    "import numpy as np\n",
    "import matplotlib.pyplot as plt"
   ]
  },
  {
   "cell_type": "code",
   "execution_count": 2,
   "metadata": {},
   "outputs": [],
   "source": [
    "# Locations of .csv files\n",
    "Amazon_Subsidies = 'CSV/Amazon_Subsidies.csv'\n",
    "State_Subsidies = 'CSV/Total_Subsidies_By_State.csv'"
   ]
  },
  {
   "cell_type": "code",
   "execution_count": 3,
   "metadata": {},
   "outputs": [],
   "source": [
    "# Read .csv files\n",
    "df_amazon = pd.read_csv(Amazon_Subsidies, header=0)\n",
    "df_state_subsidies = pd.read_csv(State_Subsidies, header=0)"
   ]
  },
  {
   "cell_type": "code",
   "execution_count": 4,
   "metadata": {},
   "outputs": [
    {
     "data": {
      "text/plain": [
       "Index(['Company', 'Parent Company', 'Location', 'City', 'County', 'Address',\n",
       "       'Zip', 'Project Description', 'NAICS Industry Code', 'Year',\n",
       "       'Subsidy Value', 'Megadeal Contribution',\n",
       "       'Subsidy Value Adjusted For Megadeal', 'Program Name',\n",
       "       'Awarding Agency', 'Type of Subsidy',\n",
       "       'Number of Jobs or Training Slots', 'Wage Data', 'Wage Data Type',\n",
       "       'Investment Data', 'Source of Data', 'Notes', 'Subsidy Source',\n",
       "       'CFDA Program Number', 'Loan Value',\n",
       "       'State in Which Facility Is Located', 'HQ State of Parent',\n",
       "       'HQ Country of Parent', 'Ownership Structure',\n",
       "       'Major Industry of Parent', 'Specific Industry of Parent'],\n",
       "      dtype='object')"
      ]
     },
     "execution_count": 4,
     "metadata": {},
     "output_type": "execute_result"
    }
   ],
   "source": [
    "# Let's see which columns we want to keep\n",
    "df_amazon.columns"
   ]
  },
  {
   "cell_type": "code",
   "execution_count": 5,
   "metadata": {},
   "outputs": [
    {
     "data": {
      "text/html": [
       "<div>\n",
       "<style scoped>\n",
       "    .dataframe tbody tr th:only-of-type {\n",
       "        vertical-align: middle;\n",
       "    }\n",
       "\n",
       "    .dataframe tbody tr th {\n",
       "        vertical-align: top;\n",
       "    }\n",
       "\n",
       "    .dataframe thead th {\n",
       "        text-align: right;\n",
       "    }\n",
       "</style>\n",
       "<table border=\"1\" class=\"dataframe\">\n",
       "  <thead>\n",
       "    <tr style=\"text-align: right;\">\n",
       "      <th></th>\n",
       "      <th>Parent Company</th>\n",
       "      <th>Location</th>\n",
       "      <th>City</th>\n",
       "      <th>Year</th>\n",
       "      <th>Subsidy Value</th>\n",
       "    </tr>\n",
       "  </thead>\n",
       "  <tbody>\n",
       "    <tr>\n",
       "      <th>165</th>\n",
       "      <td>Amazon.com</td>\n",
       "      <td>Alabama</td>\n",
       "      <td>Bessemer</td>\n",
       "      <td>2018.0</td>\n",
       "      <td>$54,600,000</td>\n",
       "    </tr>\n",
       "    <tr>\n",
       "      <th>21</th>\n",
       "      <td>Amazon.com</td>\n",
       "      <td>Arizona</td>\n",
       "      <td>Phoenix</td>\n",
       "      <td>2008.0</td>\n",
       "      <td>$739,671</td>\n",
       "    </tr>\n",
       "    <tr>\n",
       "      <th>15</th>\n",
       "      <td>Amazon.com</td>\n",
       "      <td>Arizona</td>\n",
       "      <td>NaN</td>\n",
       "      <td>2008.0</td>\n",
       "      <td>undisclosed</td>\n",
       "    </tr>\n",
       "    <tr>\n",
       "      <th>14</th>\n",
       "      <td>Amazon.com</td>\n",
       "      <td>Arizona</td>\n",
       "      <td>NaN</td>\n",
       "      <td>2008.0</td>\n",
       "      <td>undisclosed</td>\n",
       "    </tr>\n",
       "    <tr>\n",
       "      <th>94</th>\n",
       "      <td>Amazon.com</td>\n",
       "      <td>California</td>\n",
       "      <td>NaN</td>\n",
       "      <td>2017.0</td>\n",
       "      <td>$1,091,000</td>\n",
       "    </tr>\n",
       "  </tbody>\n",
       "</table>\n",
       "</div>"
      ],
      "text/plain": [
       "    Parent Company    Location      City    Year Subsidy Value\n",
       "165     Amazon.com     Alabama  Bessemer  2018.0   $54,600,000\n",
       "21      Amazon.com     Arizona   Phoenix  2008.0      $739,671\n",
       "15      Amazon.com     Arizona       NaN  2008.0   undisclosed\n",
       "14      Amazon.com     Arizona       NaN  2008.0   undisclosed\n",
       "94      Amazon.com  California       NaN  2017.0    $1,091,000"
      ]
     },
     "execution_count": 5,
     "metadata": {},
     "output_type": "execute_result"
    }
   ],
   "source": [
    "df_amazon = df_amazon[['Parent Company','Location','City','Year','Subsidy Value']]\n",
    "df_amazon.sort_values(by='Location').head()"
   ]
  },
  {
   "cell_type": "code",
   "execution_count": 6,
   "metadata": {},
   "outputs": [
    {
     "data": {
      "text/plain": [
       "Index(['Rank', 'State', 'State Name', 'Subsidy Total Dollars',\n",
       "       'Number of Awards'],\n",
       "      dtype='object')"
      ]
     },
     "execution_count": 6,
     "metadata": {},
     "output_type": "execute_result"
    }
   ],
   "source": [
    "df_state_subsidies.columns"
   ]
  },
  {
   "cell_type": "code",
   "execution_count": 7,
   "metadata": {},
   "outputs": [],
   "source": [
    "df_state_subsidies.head()\n",
    "# Removing the rank column\n",
    "df_state_subsidies = df_state_subsidies.iloc[:,1:]"
   ]
  },
  {
   "cell_type": "code",
   "execution_count": 8,
   "metadata": {},
   "outputs": [
    {
     "data": {
      "text/html": [
       "<div>\n",
       "<style scoped>\n",
       "    .dataframe tbody tr th:only-of-type {\n",
       "        vertical-align: middle;\n",
       "    }\n",
       "\n",
       "    .dataframe tbody tr th {\n",
       "        vertical-align: top;\n",
       "    }\n",
       "\n",
       "    .dataframe thead th {\n",
       "        text-align: right;\n",
       "    }\n",
       "</style>\n",
       "<table border=\"1\" class=\"dataframe\">\n",
       "  <thead>\n",
       "    <tr style=\"text-align: right;\">\n",
       "      <th></th>\n",
       "      <th>State</th>\n",
       "      <th>State Name</th>\n",
       "      <th>Subsidy Total Dollars</th>\n",
       "      <th>Number of Awards</th>\n",
       "    </tr>\n",
       "  </thead>\n",
       "  <tbody>\n",
       "    <tr>\n",
       "      <th>0</th>\n",
       "      <td>NY</td>\n",
       "      <td>New York</td>\n",
       "      <td>$33,969,437,664</td>\n",
       "      <td>127,152</td>\n",
       "    </tr>\n",
       "    <tr>\n",
       "      <th>1</th>\n",
       "      <td>LA</td>\n",
       "      <td>Louisiana</td>\n",
       "      <td>$25,219,037,615</td>\n",
       "      <td>9,286</td>\n",
       "    </tr>\n",
       "    <tr>\n",
       "      <th>2</th>\n",
       "      <td>MI</td>\n",
       "      <td>Michigan</td>\n",
       "      <td>$15,468,972,322</td>\n",
       "      <td>17,680</td>\n",
       "    </tr>\n",
       "    <tr>\n",
       "      <th>3</th>\n",
       "      <td>WA</td>\n",
       "      <td>Washington</td>\n",
       "      <td>$13,926,001,594</td>\n",
       "      <td>23,518</td>\n",
       "    </tr>\n",
       "    <tr>\n",
       "      <th>4</th>\n",
       "      <td>NJ</td>\n",
       "      <td>New Jersey</td>\n",
       "      <td>$10,727,322,838</td>\n",
       "      <td>14,784</td>\n",
       "    </tr>\n",
       "  </tbody>\n",
       "</table>\n",
       "</div>"
      ],
      "text/plain": [
       "  State  State Name Subsidy Total Dollars Number of Awards\n",
       "0    NY    New York       $33,969,437,664          127,152\n",
       "1    LA   Louisiana       $25,219,037,615            9,286\n",
       "2    MI    Michigan       $15,468,972,322           17,680\n",
       "3    WA  Washington       $13,926,001,594           23,518\n",
       "4    NJ  New Jersey       $10,727,322,838           14,784"
      ]
     },
     "execution_count": 8,
     "metadata": {},
     "output_type": "execute_result"
    }
   ],
   "source": [
    "df_state_subsidies.head()"
   ]
  },
  {
   "cell_type": "code",
   "execution_count": 9,
   "metadata": {},
   "outputs": [],
   "source": [
    "# Let's merge these two\n",
    "df = pd.merge(df_amazon, df_state_subsidies, left_on='Location', right_on='State Name')"
   ]
  },
  {
   "cell_type": "code",
   "execution_count": 10,
   "metadata": {},
   "outputs": [],
   "source": [
    "# Take just the columns we need\n",
    "df = df[['State','State Name','Subsidy Total Dollars','City','Year','Subsidy Value','Number of Awards']]"
   ]
  },
  {
   "cell_type": "code",
   "execution_count": 11,
   "metadata": {},
   "outputs": [],
   "source": [
    "# Cleaning up the merged dataframe\n",
    "df = df[df['Subsidy Value'] != 'undisclosed']\n",
    "\n",
    "for rows in ['Subsidy Total Dollars','Subsidy Value']:\n",
    "    df[rows] = df[rows].str.replace('$','')\n",
    "    df[rows] = df[rows].str.replace(',','')\n",
    "    df[rows] = pd.to_numeric(df[rows])"
   ]
  },
  {
   "cell_type": "code",
   "execution_count": 12,
   "metadata": {},
   "outputs": [],
   "source": [
    "df.reset_index(drop=True, inplace=True)"
   ]
  },
  {
   "cell_type": "markdown",
   "metadata": {},
   "source": [
    "## Exploratory Analysis"
   ]
  },
  {
   "cell_type": "code",
   "execution_count": 13,
   "metadata": {},
   "outputs": [
    {
     "data": {
      "image/png": "[encoded data removed]",
      "text/plain": [
       "<Figure size 432x288 with 1 Axes>"
      ]
     },
     "metadata": {
      "needs_background": "light"
     },
     "output_type": "display_data"
    }
   ],
   "source": [
    "# What is the mean subsidy value per State to Amazon\n",
    "df.groupby('State Name')['Subsidy Value'].sum().plot.bar()\n",
    "# What is the State with the most subsidies overall?\n",
    "df.groupby('State Name')['Subsidy Total Dollars'].mean().plot.bar()\n",
    "\n",
    "plt.show()"
   ]
  },
  {
   "cell_type": "code",
   "execution_count": 14,
   "metadata": {},
   "outputs": [],
   "source": [
    "# Now that we have an overview let's set up a colormap\n",
    "import seaborn as sns\n",
    "\n",
    "# Create the color map based on the unique State names using seaborn presets\n",
    "color_labels = df['State Name'].unique()\n",
    "rgb_values = sns.color_palette(\"Set2\", len(df['State Name'].unique()))\n",
    "color_map = dict(zip(color_labels, rgb_values))"
   ]
  },
  {
   "cell_type": "code",
   "execution_count": 15,
   "metadata": {},
   "outputs": [
    {
     "data": {
      "text/plain": [
       "20"
      ]
     },
     "execution_count": 15,
     "metadata": {},
     "output_type": "execute_result"
    }
   ],
   "source": [
    "# Now let's test it out with just our 20 States\n",
    "top_20 = {'Atlanta': 'GA', 'Austin' :'TX', 'Boston': 'MA', 'Chicago': 'IL', 'Columbus': 'OH', 'Dallas': 'TX', 'Denver': 'CO', 'Indianapolis': 'IN', 'Los Angeles': 'CA', 'Miami': 'FL', 'Montgomery County': 'MD', 'Nashville': 'TN', 'Newark': 'NJ', 'New York': 'NY', 'Northern Virginia': 'VA', 'Philadelphia': 'PA', 'Pittsburgh': 'PA', 'Raleigh': 'NC', 'Toronto': 'Ontario', 'Washington': 'D.C.'}\n",
    "states = list(top_20.values())\n",
    "len(states)"
   ]
  },
  {
   "cell_type": "code",
   "execution_count": 16,
   "metadata": {},
   "outputs": [],
   "source": [
    "# narrowing the df to contain only our 20 states\n",
    "df = df[df['State'].str.contains(('|').join(states))]"
   ]
  },
  {
   "cell_type": "code",
   "execution_count": 17,
   "metadata": {},
   "outputs": [],
   "source": [
    "# Diving by 10^6 to simplify the large dollar amounts\n",
    "df['Subsidy Total Dollars'] = df['Subsidy Total Dollars']/1000000\n",
    "df['Subsidy Value'] = df['Subsidy Value']/1000000"
   ]
  },
  {
   "cell_type": "code",
   "execution_count": 18,
   "metadata": {},
   "outputs": [
    {
     "data": {
      "text/html": [
       "<div>\n",
       "<style scoped>\n",
       "    .dataframe tbody tr th:only-of-type {\n",
       "        vertical-align: middle;\n",
       "    }\n",
       "\n",
       "    .dataframe tbody tr th {\n",
       "        vertical-align: top;\n",
       "    }\n",
       "\n",
       "    .dataframe thead th {\n",
       "        text-align: right;\n",
       "    }\n",
       "</style>\n",
       "<table border=\"1\" class=\"dataframe\">\n",
       "  <thead>\n",
       "    <tr style=\"text-align: right;\">\n",
       "      <th></th>\n",
       "      <th>State</th>\n",
       "      <th>State Name</th>\n",
       "      <th>Subsidy Total Dollars</th>\n",
       "      <th>City</th>\n",
       "      <th>Year</th>\n",
       "      <th>Subsidy Value</th>\n",
       "      <th>Number of Awards</th>\n",
       "    </tr>\n",
       "  </thead>\n",
       "  <tbody>\n",
       "    <tr>\n",
       "      <th>34</th>\n",
       "      <td>NJ</td>\n",
       "      <td>New Jersey</td>\n",
       "      <td>10727.322838</td>\n",
       "      <td>Newark</td>\n",
       "      <td>2015.0</td>\n",
       "      <td>39.375</td>\n",
       "      <td>14,784</td>\n",
       "    </tr>\n",
       "    <tr>\n",
       "      <th>35</th>\n",
       "      <td>PA</td>\n",
       "      <td>Pennsylvania</td>\n",
       "      <td>5002.901627</td>\n",
       "      <td>NaN</td>\n",
       "      <td>NaN</td>\n",
       "      <td>1.250</td>\n",
       "      <td>13,465</td>\n",
       "    </tr>\n",
       "    <tr>\n",
       "      <th>36</th>\n",
       "      <td>PA</td>\n",
       "      <td>Pennsylvania</td>\n",
       "      <td>5002.901627</td>\n",
       "      <td>NaN</td>\n",
       "      <td>2016.0</td>\n",
       "      <td>5.000</td>\n",
       "      <td>13,465</td>\n",
       "    </tr>\n",
       "    <tr>\n",
       "      <th>37</th>\n",
       "      <td>PA</td>\n",
       "      <td>Pennsylvania</td>\n",
       "      <td>5002.901627</td>\n",
       "      <td>NaN</td>\n",
       "      <td>2016.0</td>\n",
       "      <td>15.000</td>\n",
       "      <td>13,465</td>\n",
       "    </tr>\n",
       "    <tr>\n",
       "      <th>38</th>\n",
       "      <td>PA</td>\n",
       "      <td>Pennsylvania</td>\n",
       "      <td>5002.901627</td>\n",
       "      <td>NaN</td>\n",
       "      <td>2016.0</td>\n",
       "      <td>2.250</td>\n",
       "      <td>13,465</td>\n",
       "    </tr>\n",
       "  </tbody>\n",
       "</table>\n",
       "</div>"
      ],
      "text/plain": [
       "   State    State Name  Subsidy Total Dollars    City    Year  Subsidy Value  \\\n",
       "34    NJ    New Jersey           10727.322838  Newark  2015.0         39.375   \n",
       "35    PA  Pennsylvania            5002.901627     NaN     NaN          1.250   \n",
       "36    PA  Pennsylvania            5002.901627     NaN  2016.0          5.000   \n",
       "37    PA  Pennsylvania            5002.901627     NaN  2016.0         15.000   \n",
       "38    PA  Pennsylvania            5002.901627     NaN  2016.0          2.250   \n",
       "\n",
       "   Number of Awards  \n",
       "34           14,784  \n",
       "35           13,465  \n",
       "36           13,465  \n",
       "37           13,465  \n",
       "38           13,465  "
      ]
     },
     "execution_count": 18,
     "metadata": {},
     "output_type": "execute_result"
    }
   ],
   "source": [
    "df.head()"
   ]
  },
  {
   "cell_type": "code",
   "execution_count": 19,
   "metadata": {},
   "outputs": [],
   "source": [
    "df.rename(columns={'Subsidy Total Dollars': 'Subsidy Total Dollars - All Corp (in millions)', 'Subsidy Value': 'Subsidy Value - Amazon (in millions)'}, inplace=True)\n"
   ]
  },
  {
   "cell_type": "code",
   "execution_count": 20,
   "metadata": {},
   "outputs": [
    {
     "data": {
      "image/png": "[encoded data removed]",
      "text/plain": [
       "<Figure size 432x288 with 1 Axes>"
      ]
     },
     "metadata": {
      "needs_background": "light"
     },
     "output_type": "display_data"
    }
   ],
   "source": [
    "# Who has already given Amazon the most money?\n",
    "to_plot = df.groupby('State Name')['Subsidy Value - Amazon (in millions)'].sum().sort_values()\n",
    "to_plot.plot.bar(title='Total Subsidies Given to Amazon', color=to_plot.index.map(color_map), rot=75)\n",
    "\n",
    "plt.xlabel(None)\n",
    "plt.ylabel('Total Subsidies (in millions)')\n",
    "plt.savefig('Charts/Total_Subsidy_Given_To_Amazon', bbox_inches='tight', dpi=300)\n",
    "plt.show()"
   ]
  },
  {
   "cell_type": "code",
   "execution_count": 22,
   "metadata": {},
   "outputs": [
    {
     "data": {
      "image/png": "[encoded data removed]",
      "text/plain": [
       "<Figure size 432x288 with 1 Axes>"
      ]
     },
     "metadata": {
      "needs_background": "light"
     },
     "output_type": "display_data"
    }
   ],
   "source": [
    "# Who has given Amazon the largest mean subsidies already?\n",
    "to_plot = df.groupby('State Name')['Subsidy Value - Amazon (in millions)'].mean().sort_values()\n",
    "to_plot.plot.bar(title = 'Size of Average Subsidy Given to Amazon', color=to_plot.index.map(color_map), rot=75)\n",
    "\n",
    "\n",
    "plt.xlabel(None)\n",
    "plt.ylabel('Average Subsidy Given (in millions)')\n",
    "plt.savefig('Charts/Average_Subsidy_Given_To_Amazon', bbox_inches='tight', dpi=300)\n",
    "plt.show()"
   ]
  },
  {
   "cell_type": "code",
   "execution_count": 23,
   "metadata": {},
   "outputs": [
    {
     "data": {
      "image/png": "[encoded data removed]",
      "text/plain": [
       "<Figure size 432x288 with 1 Axes>"
      ]
     },
     "metadata": {
      "needs_background": "light"
     },
     "output_type": "display_data"
    }
   ],
   "source": [
    "# Who's most likely to give us a big subsidy?\n",
    "# Subsidy Total Dollars = NON Amazon - All companies!\n",
    "# I use mean here because this is a static value per state occurence in the df so the mean equals the exact value\n",
    "to_plot = df.groupby('State Name')['Subsidy Total Dollars - All Corp (in millions)'].mean().sort_values()\n",
    "to_plot.plot.bar(title='Total Subsidies Given to Corportations', color=to_plot.index.map(color_map), rot=75)\n",
    "\n",
    "plt.xlabel(None)\n",
    "plt.ylabel('Total Subsidies (in millions)')\n",
    "plt.savefig('Charts/Total_Subsidies_Given_All_Companies', bbox_inches='tight', dpi=300)\n",
    "plt.show()\n",
    "# Top is 35 billion"
   ]
  },
  {
   "cell_type": "code",
   "execution_count": null,
   "metadata": {},
   "outputs": [],
   "source": [
    "df"
   ]
  }
 ],
 "metadata": {
  "kernelspec": {
   "display_name": "Python 3",
   "language": "python",
   "name": "python3"
  },
  "language_info": {
   "codemirror_mode": {
    "name": "ipython",
    "version": 3
   },
   "file_extension": ".py",
   "mimetype": "text/x-python",
   "name": "python",
   "nbconvert_exporter": "python",
   "pygments_lexer": "ipython3",
   "version": "3.6.8"
  }
 },
 "nbformat": 4,
 "nbformat_minor": 2
}
