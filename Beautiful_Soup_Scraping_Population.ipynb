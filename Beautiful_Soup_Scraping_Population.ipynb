{
 "cells": [
  {
   "cell_type": "code",
   "execution_count": 1,
   "metadata": {},
   "outputs": [],
   "source": [
    "from bs4 import BeautifulSoup\n",
    "import pandas as pd\n",
    "import numpy as np\n",
    "import requests\n",
    "import matplotlib.pyplot as plt"
   ]
  },
  {
   "cell_type": "code",
   "execution_count": 2,
   "metadata": {},
   "outputs": [],
   "source": [
    "top_20 = ['Atlanta', 'Austin', 'Boston', 'Chicago', 'Columbus', 'Dallas', 'Denver', 'Indianapolis', 'Los Angeles', 'Miami', 'Montgomery County', 'Nashville', 'Newark', 'New York', 'Northern Virginia', 'Philadelphia', 'Pittsburgh', 'Raleigh', 'Toronto', 'Washington']\t"
   ]
  },
  {
   "cell_type": "markdown",
   "metadata": {},
   "source": [
    "# Population Data"
   ]
  },
  {
   "cell_type": "code",
   "execution_count": 3,
   "metadata": {},
   "outputs": [],
   "source": [
    "url = 'https://en.wikipedia.org/wiki/List_of_United_States_cities_by_population'"
   ]
  },
  {
   "cell_type": "code",
   "execution_count": 4,
   "metadata": {},
   "outputs": [],
   "source": [
    "tables = pd.read_html(url)"
   ]
  },
  {
   "cell_type": "code",
   "execution_count": 5,
   "metadata": {},
   "outputs": [],
   "source": [
    "df = tables[4]"
   ]
  },
  {
   "cell_type": "code",
   "execution_count": 6,
   "metadata": {},
   "outputs": [
    {
     "data": {
      "text/html": [
       "<div>\n",
       "<style scoped>\n",
       "    .dataframe tbody tr th:only-of-type {\n",
       "        vertical-align: middle;\n",
       "    }\n",
       "\n",
       "    .dataframe tbody tr th {\n",
       "        vertical-align: top;\n",
       "    }\n",
       "\n",
       "    .dataframe thead th {\n",
       "        text-align: right;\n",
       "    }\n",
       "</style>\n",
       "<table border=\"1\" class=\"dataframe\">\n",
       "  <thead>\n",
       "    <tr style=\"text-align: right;\">\n",
       "      <th></th>\n",
       "      <th>2017rank</th>\n",
       "      <th>City</th>\n",
       "      <th>State[5]</th>\n",
       "      <th>2017estimate</th>\n",
       "      <th>2010Census</th>\n",
       "      <th>Change</th>\n",
       "      <th>2016 land area</th>\n",
       "      <th>2016 population density</th>\n",
       "      <th>Location</th>\n",
       "      <th>nan</th>\n",
       "      <th>nan</th>\n",
       "    </tr>\n",
       "  </thead>\n",
       "  <tbody>\n",
       "    <tr>\n",
       "      <th>0</th>\n",
       "      <td>2017rank</td>\n",
       "      <td>City</td>\n",
       "      <td>State[5]</td>\n",
       "      <td>2017estimate</td>\n",
       "      <td>2010Census</td>\n",
       "      <td>Change</td>\n",
       "      <td>2016 land area</td>\n",
       "      <td>2016 population density</td>\n",
       "      <td>Location</td>\n",
       "      <td>NaN</td>\n",
       "      <td>NaN</td>\n",
       "    </tr>\n",
       "    <tr>\n",
       "      <th>1</th>\n",
       "      <td>1</td>\n",
       "      <td>New York[6]</td>\n",
       "      <td>New York</td>\n",
       "      <td>8622698</td>\n",
       "      <td>8175133</td>\n",
       "      <td>+5.47%</td>\n",
       "      <td>301.5 sq mi</td>\n",
       "      <td>780.9 km2</td>\n",
       "      <td>28,317/sq mi</td>\n",
       "      <td>10,933/km2</td>\n",
       "      <td>40°39′49″N 73°56′19″W﻿ / ﻿40.6635°N 73.9387°W</td>\n",
       "    </tr>\n",
       "    <tr>\n",
       "      <th>2</th>\n",
       "      <td>2</td>\n",
       "      <td>Los Angeles</td>\n",
       "      <td>California</td>\n",
       "      <td>3999759</td>\n",
       "      <td>3792621</td>\n",
       "      <td>+5.46%</td>\n",
       "      <td>468.7 sq mi</td>\n",
       "      <td>1,213.9 km2</td>\n",
       "      <td>8,484/sq mi</td>\n",
       "      <td>3,276/km2</td>\n",
       "      <td>34°01′10″N 118°24′39″W﻿ / ﻿34.0194°N 118.4108°W</td>\n",
       "    </tr>\n",
       "    <tr>\n",
       "      <th>3</th>\n",
       "      <td>3</td>\n",
       "      <td>Chicago</td>\n",
       "      <td>Illinois</td>\n",
       "      <td>2716450</td>\n",
       "      <td>2695598</td>\n",
       "      <td>+0.77%</td>\n",
       "      <td>227.3 sq mi</td>\n",
       "      <td>588.7 km2</td>\n",
       "      <td>11,900/sq mi</td>\n",
       "      <td>4,600/km2</td>\n",
       "      <td>41°50′15″N 87°40′54″W﻿ / ﻿41.8376°N 87.6818°W</td>\n",
       "    </tr>\n",
       "    <tr>\n",
       "      <th>4</th>\n",
       "      <td>4</td>\n",
       "      <td>Houston[7]</td>\n",
       "      <td>Texas</td>\n",
       "      <td>2312717</td>\n",
       "      <td>2100263</td>\n",
       "      <td>+10.12%</td>\n",
       "      <td>637.5 sq mi</td>\n",
       "      <td>1,651.1 km2</td>\n",
       "      <td>3,613/sq mi</td>\n",
       "      <td>1,395/km2</td>\n",
       "      <td>29°47′12″N 95°23′27″W﻿ / ﻿29.7866°N 95.3909°W</td>\n",
       "    </tr>\n",
       "  </tbody>\n",
       "</table>\n",
       "</div>"
      ],
      "text/plain": [
       "0  2017rank         City    State[5]  2017estimate  2010Census   Change  \\\n",
       "0  2017rank         City    State[5]  2017estimate  2010Census   Change   \n",
       "1         1  New York[6]    New York       8622698     8175133   +5.47%   \n",
       "2         2  Los Angeles  California       3999759     3792621   +5.46%   \n",
       "3         3      Chicago    Illinois       2716450     2695598   +0.77%   \n",
       "4         4   Houston[7]       Texas       2312717     2100263  +10.12%   \n",
       "\n",
       "0  2016 land area  2016 population density      Location         NaN  \\\n",
       "0  2016 land area  2016 population density      Location         NaN   \n",
       "1     301.5 sq mi                780.9 km2  28,317/sq mi  10,933/km2   \n",
       "2     468.7 sq mi              1,213.9 km2   8,484/sq mi   3,276/km2   \n",
       "3     227.3 sq mi                588.7 km2  11,900/sq mi   4,600/km2   \n",
       "4     637.5 sq mi              1,651.1 km2   3,613/sq mi   1,395/km2   \n",
       "\n",
       "0                                              NaN  \n",
       "0                                              NaN  \n",
       "1    40°39′49″N 73°56′19″W﻿ / ﻿40.6635°N 73.9387°W  \n",
       "2  34°01′10″N 118°24′39″W﻿ / ﻿34.0194°N 118.4108°W  \n",
       "3    41°50′15″N 87°40′54″W﻿ / ﻿41.8376°N 87.6818°W  \n",
       "4    29°47′12″N 95°23′27″W﻿ / ﻿29.7866°N 95.3909°W  "
      ]
     },
     "execution_count": 6,
     "metadata": {},
     "output_type": "execute_result"
    }
   ],
   "source": [
    "df.columns = df.iloc[0]\n",
    "df.head()"
   ]
  },
  {
   "cell_type": "code",
   "execution_count": 7,
   "metadata": {},
   "outputs": [],
   "source": [
    "df = df.drop(index=0)"
   ]
  },
  {
   "cell_type": "code",
   "execution_count": 8,
   "metadata": {},
   "outputs": [],
   "source": [
    "df.reset_index(drop=True, inplace=True)"
   ]
  },
  {
   "cell_type": "code",
   "execution_count": 9,
   "metadata": {},
   "outputs": [],
   "source": [
    "df_top_20 = df[df['City'].str.contains(('|').join(top_20))]\n",
    "df_top_20 = df_top_20.drop(index=18)"
   ]
  },
  {
   "cell_type": "code",
   "execution_count": 10,
   "metadata": {},
   "outputs": [
    {
     "data": {
      "text/html": [
       "<div>\n",
       "<style scoped>\n",
       "    .dataframe tbody tr th:only-of-type {\n",
       "        vertical-align: middle;\n",
       "    }\n",
       "\n",
       "    .dataframe tbody tr th {\n",
       "        vertical-align: top;\n",
       "    }\n",
       "\n",
       "    .dataframe thead th {\n",
       "        text-align: right;\n",
       "    }\n",
       "</style>\n",
       "<table border=\"1\" class=\"dataframe\">\n",
       "  <thead>\n",
       "    <tr style=\"text-align: right;\">\n",
       "      <th></th>\n",
       "      <th>2017rank</th>\n",
       "      <th>City</th>\n",
       "      <th>State[5]</th>\n",
       "      <th>2017estimate</th>\n",
       "      <th>2010Census</th>\n",
       "      <th>Change</th>\n",
       "      <th>2016 land area</th>\n",
       "      <th>2016 population density</th>\n",
       "      <th>Location</th>\n",
       "      <th>nan</th>\n",
       "      <th>nan</th>\n",
       "    </tr>\n",
       "  </thead>\n",
       "  <tbody>\n",
       "    <tr>\n",
       "      <th>0</th>\n",
       "      <td>1</td>\n",
       "      <td>New York[6]</td>\n",
       "      <td>New York</td>\n",
       "      <td>8622698</td>\n",
       "      <td>8175133</td>\n",
       "      <td>+5.47%</td>\n",
       "      <td>301.5 sq mi</td>\n",
       "      <td>780.9 km2</td>\n",
       "      <td>28,317/sq mi</td>\n",
       "      <td>10,933/km2</td>\n",
       "      <td>40°39′49″N 73°56′19″W﻿ / ﻿40.6635°N 73.9387°W</td>\n",
       "    </tr>\n",
       "    <tr>\n",
       "      <th>1</th>\n",
       "      <td>2</td>\n",
       "      <td>Los Angeles</td>\n",
       "      <td>California</td>\n",
       "      <td>3999759</td>\n",
       "      <td>3792621</td>\n",
       "      <td>+5.46%</td>\n",
       "      <td>468.7 sq mi</td>\n",
       "      <td>1,213.9 km2</td>\n",
       "      <td>8,484/sq mi</td>\n",
       "      <td>3,276/km2</td>\n",
       "      <td>34°01′10″N 118°24′39″W﻿ / ﻿34.0194°N 118.4108°W</td>\n",
       "    </tr>\n",
       "    <tr>\n",
       "      <th>2</th>\n",
       "      <td>3</td>\n",
       "      <td>Chicago</td>\n",
       "      <td>Illinois</td>\n",
       "      <td>2716450</td>\n",
       "      <td>2695598</td>\n",
       "      <td>+0.77%</td>\n",
       "      <td>227.3 sq mi</td>\n",
       "      <td>588.7 km2</td>\n",
       "      <td>11,900/sq mi</td>\n",
       "      <td>4,600/km2</td>\n",
       "      <td>41°50′15″N 87°40′54″W﻿ / ﻿41.8376°N 87.6818°W</td>\n",
       "    </tr>\n",
       "    <tr>\n",
       "      <th>5</th>\n",
       "      <td>6</td>\n",
       "      <td>Philadelphia[8]</td>\n",
       "      <td>Pennsylvania</td>\n",
       "      <td>1580863</td>\n",
       "      <td>1526006</td>\n",
       "      <td>+3.59%</td>\n",
       "      <td>134.2 sq mi</td>\n",
       "      <td>347.6 km2</td>\n",
       "      <td>11,683/sq mi</td>\n",
       "      <td>4,511/km2</td>\n",
       "      <td>40°00′34″N 75°08′00″W﻿ / ﻿40.0094°N 75.1333°W</td>\n",
       "    </tr>\n",
       "    <tr>\n",
       "      <th>8</th>\n",
       "      <td>9</td>\n",
       "      <td>Dallas</td>\n",
       "      <td>Texas</td>\n",
       "      <td>1341075</td>\n",
       "      <td>1197816</td>\n",
       "      <td>+11.96%</td>\n",
       "      <td>340.9 sq mi</td>\n",
       "      <td>882.9 km2</td>\n",
       "      <td>3,866/sq mi</td>\n",
       "      <td>1,493/km2</td>\n",
       "      <td>32°47′36″N 96°45′59″W﻿ / ﻿32.7933°N 96.7665°W</td>\n",
       "    </tr>\n",
       "  </tbody>\n",
       "</table>\n",
       "</div>"
      ],
      "text/plain": [
       "0 2017rank             City      State[5] 2017estimate 2010Census   Change  \\\n",
       "0        1      New York[6]      New York      8622698    8175133   +5.47%   \n",
       "1        2      Los Angeles    California      3999759    3792621   +5.46%   \n",
       "2        3          Chicago      Illinois      2716450    2695598   +0.77%   \n",
       "5        6  Philadelphia[8]  Pennsylvania      1580863    1526006   +3.59%   \n",
       "8        9           Dallas         Texas      1341075    1197816  +11.96%   \n",
       "\n",
       "0 2016 land area 2016 population density      Location         NaN  \\\n",
       "0    301.5 sq mi               780.9 km2  28,317/sq mi  10,933/km2   \n",
       "1    468.7 sq mi             1,213.9 km2   8,484/sq mi   3,276/km2   \n",
       "2    227.3 sq mi               588.7 km2  11,900/sq mi   4,600/km2   \n",
       "5    134.2 sq mi               347.6 km2  11,683/sq mi   4,511/km2   \n",
       "8    340.9 sq mi               882.9 km2   3,866/sq mi   1,493/km2   \n",
       "\n",
       "0                                              NaN  \n",
       "0    40°39′49″N 73°56′19″W﻿ / ﻿40.6635°N 73.9387°W  \n",
       "1  34°01′10″N 118°24′39″W﻿ / ﻿34.0194°N 118.4108°W  \n",
       "2    41°50′15″N 87°40′54″W﻿ / ﻿41.8376°N 87.6818°W  \n",
       "5    40°00′34″N 75°08′00″W﻿ / ﻿40.0094°N 75.1333°W  \n",
       "8    32°47′36″N 96°45′59″W﻿ / ﻿32.7933°N 96.7665°W  "
      ]
     },
     "execution_count": 10,
     "metadata": {},
     "output_type": "execute_result"
    }
   ],
   "source": [
    "df_top_20.head()"
   ]
  },
  {
   "cell_type": "code",
   "execution_count": 11,
   "metadata": {},
   "outputs": [],
   "source": [
    "df_top_20['2017estimate'] = pd.to_numeric(df_top_20['2017estimate'])"
   ]
  },
  {
   "cell_type": "code",
   "execution_count": 12,
   "metadata": {},
   "outputs": [],
   "source": [
    "for city in top_20:\n",
    "    df_top_20.loc[df_top_20['City'].str.contains(city, case=False), 'City'] = city"
   ]
  },
  {
   "cell_type": "code",
   "execution_count": 13,
   "metadata": {
    "scrolled": true
   },
   "outputs": [],
   "source": [
    "df_top_20 = df_top_20[['City','2017estimate']]"
   ]
  },
  {
   "cell_type": "code",
   "execution_count": 14,
   "metadata": {},
   "outputs": [
    {
     "data": {
      "text/html": [
       "<div>\n",
       "<style scoped>\n",
       "    .dataframe tbody tr th:only-of-type {\n",
       "        vertical-align: middle;\n",
       "    }\n",
       "\n",
       "    .dataframe tbody tr th {\n",
       "        vertical-align: top;\n",
       "    }\n",
       "\n",
       "    .dataframe thead th {\n",
       "        text-align: right;\n",
       "    }\n",
       "</style>\n",
       "<table border=\"1\" class=\"dataframe\">\n",
       "  <thead>\n",
       "    <tr style=\"text-align: right;\">\n",
       "      <th></th>\n",
       "      <th>City</th>\n",
       "      <th>2017estimate</th>\n",
       "    </tr>\n",
       "  </thead>\n",
       "  <tbody>\n",
       "    <tr>\n",
       "      <th>0</th>\n",
       "      <td>New York</td>\n",
       "      <td>8622698</td>\n",
       "    </tr>\n",
       "    <tr>\n",
       "      <th>1</th>\n",
       "      <td>Los Angeles</td>\n",
       "      <td>3999759</td>\n",
       "    </tr>\n",
       "    <tr>\n",
       "      <th>2</th>\n",
       "      <td>Chicago</td>\n",
       "      <td>2716450</td>\n",
       "    </tr>\n",
       "    <tr>\n",
       "      <th>5</th>\n",
       "      <td>Philadelphia</td>\n",
       "      <td>1580863</td>\n",
       "    </tr>\n",
       "    <tr>\n",
       "      <th>8</th>\n",
       "      <td>Dallas</td>\n",
       "      <td>1341075</td>\n",
       "    </tr>\n",
       "    <tr>\n",
       "      <th>10</th>\n",
       "      <td>Austin</td>\n",
       "      <td>950715</td>\n",
       "    </tr>\n",
       "    <tr>\n",
       "      <th>13</th>\n",
       "      <td>Columbus</td>\n",
       "      <td>879170</td>\n",
       "    </tr>\n",
       "    <tr>\n",
       "      <th>15</th>\n",
       "      <td>Indianapolis</td>\n",
       "      <td>863002</td>\n",
       "    </tr>\n",
       "    <tr>\n",
       "      <th>19</th>\n",
       "      <td>Washington</td>\n",
       "      <td>693972</td>\n",
       "    </tr>\n",
       "    <tr>\n",
       "      <th>20</th>\n",
       "      <td>Boston</td>\n",
       "      <td>685094</td>\n",
       "    </tr>\n",
       "    <tr>\n",
       "      <th>23</th>\n",
       "      <td>Nashville</td>\n",
       "      <td>667560</td>\n",
       "    </tr>\n",
       "    <tr>\n",
       "      <th>37</th>\n",
       "      <td>Atlanta</td>\n",
       "      <td>486290</td>\n",
       "    </tr>\n",
       "    <tr>\n",
       "      <th>40</th>\n",
       "      <td>Raleigh</td>\n",
       "      <td>464758</td>\n",
       "    </tr>\n",
       "    <tr>\n",
       "      <th>42</th>\n",
       "      <td>Miami</td>\n",
       "      <td>463347</td>\n",
       "    </tr>\n",
       "    <tr>\n",
       "      <th>64</th>\n",
       "      <td>Pittsburgh</td>\n",
       "      <td>302407</td>\n",
       "    </tr>\n",
       "    <tr>\n",
       "      <th>69</th>\n",
       "      <td>Newark</td>\n",
       "      <td>285154</td>\n",
       "    </tr>\n",
       "    <tr>\n",
       "      <th>123</th>\n",
       "      <td>Columbus</td>\n",
       "      <td>194058</td>\n",
       "    </tr>\n",
       "    <tr>\n",
       "      <th>250</th>\n",
       "      <td>Miami</td>\n",
       "      <td>113750</td>\n",
       "    </tr>\n",
       "  </tbody>\n",
       "</table>\n",
       "</div>"
      ],
      "text/plain": [
       "0            City  2017estimate\n",
       "0        New York       8622698\n",
       "1     Los Angeles       3999759\n",
       "2         Chicago       2716450\n",
       "5    Philadelphia       1580863\n",
       "8          Dallas       1341075\n",
       "10         Austin        950715\n",
       "13       Columbus        879170\n",
       "15   Indianapolis        863002\n",
       "19     Washington        693972\n",
       "20         Boston        685094\n",
       "23      Nashville        667560\n",
       "37        Atlanta        486290\n",
       "40        Raleigh        464758\n",
       "42          Miami        463347\n",
       "64     Pittsburgh        302407\n",
       "69         Newark        285154\n",
       "123      Columbus        194058\n",
       "250         Miami        113750"
      ]
     },
     "execution_count": 14,
     "metadata": {},
     "output_type": "execute_result"
    }
   ],
   "source": [
    "df_top_20"
   ]
  },
  {
   "cell_type": "code",
   "execution_count": 15,
   "metadata": {},
   "outputs": [],
   "source": [
    "# Set the index to City\n",
    "df_top_20.set_index('City', drop=True, inplace=True)"
   ]
  },
  {
   "cell_type": "code",
   "execution_count": 16,
   "metadata": {},
   "outputs": [],
   "source": [
    "# Now we will add missing areas:\n",
    "# Montgomery County, source: https://en.wikipedia.org/wiki/Montgomery_County,_Maryland\n",
    "df_top_20.loc['Montgomery County'] = 1058810\n",
    "# Norther Virginia, source: https://en.wikipedia.org/wiki/Northern_Virginia\n",
    "# This uses 2013 data, whereas all other data is 2017\n",
    "df_top_20.loc['Northern Virginia'] = 2775354\n",
    "# Toronto, source: https://en.wikipedia.org/wiki/Toronto\n",
    "df_top_20.loc['Toronoto'] = 2731571\n",
    "\n",
    "# let's simplify the population columns:\n",
    "df_top_20['2017estimate'] = (df_top_20['2017estimate']/1000000)"
   ]
  },
  {
   "cell_type": "markdown",
   "metadata": {},
   "source": [
    "## Analysis and Visualization"
   ]
  },
  {
   "cell_type": "code",
   "execution_count": 35,
   "metadata": {},
   "outputs": [],
   "source": [
    "# Now that we have an overview let's set up a colormap\n",
    "import seaborn as sns\n",
    "\n",
    "# Create the color map based on the unique State names using seaborn presets\n",
    "color_labels = df_top_20.index.unique()\n",
    "rgb_values = sns.color_palette(\"Set2\", len(df_top_20.index.unique()))\n",
    "color_map = dict(zip(color_labels, rgb_values))"
   ]
  },
  {
   "cell_type": "code",
   "execution_count": 36,
   "metadata": {},
   "outputs": [
    {
     "data": {
      "image/png": "[encoded data removed]",
      "text/plain": [
       "<Figure size 720x360 with 1 Axes>"
      ]
     },
     "metadata": {
      "needs_background": "light"
     },
     "output_type": "display_data"
    }
   ],
   "source": [
    "df_top_20 = df_top_20.sort_values(by='2017estimate')\n",
    "\n",
    "df_top_20.plot.bar(y='2017estimate', color=df_top_20.index.map(color_map), rot=80, legend=False, figsize=(10,5))\n",
    "plt.ylabel('population (in millions)')\n",
    "plt.xlabel(None)\n",
    "\n",
    "plt.savefig('Charts/Population_in_millions.png', bbox_inches='tight')\n",
    "\n",
    "plt.show()"
   ]
  },
  {
   "cell_type": "markdown",
   "metadata": {},
   "source": [
    "# BLS Unemployment Stats"
   ]
  },
  {
   "cell_type": "code",
   "execution_count": 19,
   "metadata": {},
   "outputs": [],
   "source": [
    "# Unemployment by City\n",
    "bls_url = 'https://www.bls.gov/web/metro/laummtrk.htm'\n",
    "bls_list = pd.read_html(bls_url)"
   ]
  },
  {
   "cell_type": "code",
   "execution_count": 20,
   "metadata": {},
   "outputs": [],
   "source": [
    "# Unemployment Rate by State\n",
    "bls_df = bls_list[0]\n",
    "bls_df = bls_df.drop(index=51)"
   ]
  },
  {
   "cell_type": "code",
   "execution_count": 21,
   "metadata": {
    "scrolled": true
   },
   "outputs": [
    {
     "data": {
      "text/html": [
       "<div>\n",
       "<style scoped>\n",
       "    .dataframe tbody tr th:only-of-type {\n",
       "        vertical-align: middle;\n",
       "    }\n",
       "\n",
       "    .dataframe tbody tr th {\n",
       "        vertical-align: top;\n",
       "    }\n",
       "\n",
       "    .dataframe thead th {\n",
       "        text-align: right;\n",
       "    }\n",
       "</style>\n",
       "<table border=\"1\" class=\"dataframe\">\n",
       "  <thead>\n",
       "    <tr style=\"text-align: right;\">\n",
       "      <th></th>\n",
       "      <th>Metropolitan area</th>\n",
       "      <th>December 2018(p)rate</th>\n",
       "      <th>Rank</th>\n",
       "    </tr>\n",
       "  </thead>\n",
       "  <tbody>\n",
       "    <tr>\n",
       "      <th>0</th>\n",
       "      <td>United States</td>\n",
       "      <td>3.7</td>\n",
       "      <td>NaN</td>\n",
       "    </tr>\n",
       "    <tr>\n",
       "      <th>1</th>\n",
       "      <td>NaN</td>\n",
       "      <td>NaN</td>\n",
       "      <td>NaN</td>\n",
       "    </tr>\n",
       "    <tr>\n",
       "      <th>2</th>\n",
       "      <td>Ames, IA Metropolitan Statistical Area</td>\n",
       "      <td>1.4</td>\n",
       "      <td>1.0</td>\n",
       "    </tr>\n",
       "    <tr>\n",
       "      <th>3</th>\n",
       "      <td>Burlington-South Burlington, VT Metropolitan N...</td>\n",
       "      <td>1.8</td>\n",
       "      <td>2.0</td>\n",
       "    </tr>\n",
       "    <tr>\n",
       "      <th>4</th>\n",
       "      <td>Iowa City, IA Metropolitan Statistical Area</td>\n",
       "      <td>1.8</td>\n",
       "      <td>2.0</td>\n",
       "    </tr>\n",
       "  </tbody>\n",
       "</table>\n",
       "</div>"
      ],
      "text/plain": [
       "                                   Metropolitan area  December 2018(p)rate  \\\n",
       "0                                      United States                   3.7   \n",
       "1                                                NaN                   NaN   \n",
       "2             Ames, IA Metropolitan Statistical Area                   1.4   \n",
       "3  Burlington-South Burlington, VT Metropolitan N...                   1.8   \n",
       "4        Iowa City, IA Metropolitan Statistical Area                   1.8   \n",
       "\n",
       "   Rank  \n",
       "0   NaN  \n",
       "1   NaN  \n",
       "2   1.0  \n",
       "3   2.0  \n",
       "4   2.0  "
      ]
     },
     "execution_count": 21,
     "metadata": {},
     "output_type": "execute_result"
    }
   ],
   "source": [
    "bls_df.head()"
   ]
  },
  {
   "cell_type": "code",
   "execution_count": 22,
   "metadata": {},
   "outputs": [
    {
     "data": {
      "text/html": [
       "<div>\n",
       "<style scoped>\n",
       "    .dataframe tbody tr th:only-of-type {\n",
       "        vertical-align: middle;\n",
       "    }\n",
       "\n",
       "    .dataframe tbody tr th {\n",
       "        vertical-align: top;\n",
       "    }\n",
       "\n",
       "    .dataframe thead th {\n",
       "        text-align: right;\n",
       "    }\n",
       "</style>\n",
       "<table border=\"1\" class=\"dataframe\">\n",
       "  <thead>\n",
       "    <tr style=\"text-align: right;\">\n",
       "      <th></th>\n",
       "      <th>Metropolitan area</th>\n",
       "      <th>December 2018(p)rate</th>\n",
       "      <th>Rank</th>\n",
       "    </tr>\n",
       "  </thead>\n",
       "  <tbody>\n",
       "    <tr>\n",
       "      <th>151</th>\n",
       "      <td>Little Rock-North Little Rock-Conway, AR Metro...</td>\n",
       "      <td>3.3</td>\n",
       "      <td>137.0</td>\n",
       "    </tr>\n",
       "    <tr>\n",
       "      <th>292</th>\n",
       "      <td>Davenport-Moline-Rock Island, IA-IL Metropolit...</td>\n",
       "      <td>4.5</td>\n",
       "      <td>285.0</td>\n",
       "    </tr>\n",
       "    <tr>\n",
       "      <th>333</th>\n",
       "      <td>Rocky Mount, NC Metropolitan Statistical Area</td>\n",
       "      <td>5.0</td>\n",
       "      <td>325.0</td>\n",
       "    </tr>\n",
       "    <tr>\n",
       "      <th>373</th>\n",
       "      <td>Rockford, IL Metropolitan Statistical Area</td>\n",
       "      <td>6.3</td>\n",
       "      <td>370.0</td>\n",
       "    </tr>\n",
       "  </tbody>\n",
       "</table>\n",
       "</div>"
      ],
      "text/plain": [
       "                                     Metropolitan area  December 2018(p)rate  \\\n",
       "151  Little Rock-North Little Rock-Conway, AR Metro...                   3.3   \n",
       "292  Davenport-Moline-Rock Island, IA-IL Metropolit...                   4.5   \n",
       "333      Rocky Mount, NC Metropolitan Statistical Area                   5.0   \n",
       "373         Rockford, IL Metropolitan Statistical Area                   6.3   \n",
       "\n",
       "      Rank  \n",
       "151  137.0  \n",
       "292  285.0  \n",
       "333  325.0  \n",
       "373  370.0  "
      ]
     },
     "execution_count": 22,
     "metadata": {},
     "output_type": "execute_result"
    }
   ],
   "source": [
    "bls_df.dropna(inplace=True)\n",
    "bls_df[bls_df['Metropolitan area'].str.contains('rock', case=False)]"
   ]
  },
  {
   "cell_type": "code",
   "execution_count": 23,
   "metadata": {},
   "outputs": [],
   "source": [
    "bls_top_20 = bls_df[bls_df['Metropolitan area'].str.contains(('|').join(top_20), case=False)]"
   ]
  },
  {
   "cell_type": "code",
   "execution_count": 24,
   "metadata": {},
   "outputs": [],
   "source": [
    "bls_top_20.reset_index(drop=True, inplace=True)"
   ]
  },
  {
   "cell_type": "code",
   "execution_count": 25,
   "metadata": {},
   "outputs": [
    {
     "name": "stderr",
     "output_type": "stream",
     "text": [
      "/anaconda3/lib/python3.6/site-packages/pandas/core/indexing.py:543: SettingWithCopyWarning: \n",
      "A value is trying to be set on a copy of a slice from a DataFrame.\n",
      "Try using .loc[row_indexer,col_indexer] = value instead\n",
      "\n",
      "See the caveats in the documentation: http://pandas.pydata.org/pandas-docs/stable/indexing.html#indexing-view-versus-copy\n",
      "  self.obj[item] = s\n"
     ]
    },
    {
     "data": {
      "text/html": [
       "<div>\n",
       "<style scoped>\n",
       "    .dataframe tbody tr th:only-of-type {\n",
       "        vertical-align: middle;\n",
       "    }\n",
       "\n",
       "    .dataframe tbody tr th {\n",
       "        vertical-align: top;\n",
       "    }\n",
       "\n",
       "    .dataframe thead th {\n",
       "        text-align: right;\n",
       "    }\n",
       "</style>\n",
       "<table border=\"1\" class=\"dataframe\">\n",
       "  <thead>\n",
       "    <tr style=\"text-align: right;\">\n",
       "      <th></th>\n",
       "      <th>Metropolitan area</th>\n",
       "      <th>December 2018(p)rate</th>\n",
       "      <th>Rank</th>\n",
       "    </tr>\n",
       "  </thead>\n",
       "  <tbody>\n",
       "    <tr>\n",
       "      <th>0</th>\n",
       "      <td>Nashville</td>\n",
       "      <td>2.3</td>\n",
       "      <td>16.0</td>\n",
       "    </tr>\n",
       "    <tr>\n",
       "      <th>1</th>\n",
       "      <td>Boston</td>\n",
       "      <td>2.4</td>\n",
       "      <td>21.0</td>\n",
       "    </tr>\n",
       "    <tr>\n",
       "      <th>2</th>\n",
       "      <td>Columbus</td>\n",
       "      <td>2.5</td>\n",
       "      <td>28.0</td>\n",
       "    </tr>\n",
       "    <tr>\n",
       "      <th>3</th>\n",
       "      <td>Washington</td>\n",
       "      <td>2.9</td>\n",
       "      <td>80.0</td>\n",
       "    </tr>\n",
       "    <tr>\n",
       "      <th>4</th>\n",
       "      <td>Indianapolis</td>\n",
       "      <td>3.1</td>\n",
       "      <td>103.0</td>\n",
       "    </tr>\n",
       "  </tbody>\n",
       "</table>\n",
       "</div>"
      ],
      "text/plain": [
       "  Metropolitan area  December 2018(p)rate   Rank\n",
       "0         Nashville                   2.3   16.0\n",
       "1            Boston                   2.4   21.0\n",
       "2          Columbus                   2.5   28.0\n",
       "3        Washington                   2.9   80.0\n",
       "4      Indianapolis                   3.1  103.0"
      ]
     },
     "execution_count": 25,
     "metadata": {},
     "output_type": "execute_result"
    }
   ],
   "source": [
    "for city in top_20:\n",
    "    bls_top_20.loc[bls_top_20['Metropolitan area'].str.contains(city, case=False), 'Metropolitan area'] = city\n",
    "    \n",
    "bls_top_20.head()"
   ]
  },
  {
   "cell_type": "code",
   "execution_count": 26,
   "metadata": {},
   "outputs": [
    {
     "name": "stderr",
     "output_type": "stream",
     "text": [
      "/anaconda3/lib/python3.6/site-packages/pandas/core/frame.py:3781: SettingWithCopyWarning: \n",
      "A value is trying to be set on a copy of a slice from a DataFrame\n",
      "\n",
      "See the caveats in the documentation: http://pandas.pydata.org/pandas-docs/stable/indexing.html#indexing-view-versus-copy\n",
      "  return super(DataFrame, self).rename(**kwargs)\n"
     ]
    },
    {
     "data": {
      "text/html": [
       "<div>\n",
       "<style scoped>\n",
       "    .dataframe tbody tr th:only-of-type {\n",
       "        vertical-align: middle;\n",
       "    }\n",
       "\n",
       "    .dataframe tbody tr th {\n",
       "        vertical-align: top;\n",
       "    }\n",
       "\n",
       "    .dataframe thead th {\n",
       "        text-align: right;\n",
       "    }\n",
       "</style>\n",
       "<table border=\"1\" class=\"dataframe\">\n",
       "  <thead>\n",
       "    <tr style=\"text-align: right;\">\n",
       "      <th></th>\n",
       "      <th>Metropolitan area</th>\n",
       "      <th>2018 Rate</th>\n",
       "      <th>Rank</th>\n",
       "    </tr>\n",
       "  </thead>\n",
       "  <tbody>\n",
       "    <tr>\n",
       "      <th>0</th>\n",
       "      <td>Nashville</td>\n",
       "      <td>2.3</td>\n",
       "      <td>16.0</td>\n",
       "    </tr>\n",
       "    <tr>\n",
       "      <th>1</th>\n",
       "      <td>Boston</td>\n",
       "      <td>2.4</td>\n",
       "      <td>21.0</td>\n",
       "    </tr>\n",
       "    <tr>\n",
       "      <th>2</th>\n",
       "      <td>Columbus</td>\n",
       "      <td>2.5</td>\n",
       "      <td>28.0</td>\n",
       "    </tr>\n",
       "    <tr>\n",
       "      <th>3</th>\n",
       "      <td>Washington</td>\n",
       "      <td>2.9</td>\n",
       "      <td>80.0</td>\n",
       "    </tr>\n",
       "    <tr>\n",
       "      <th>4</th>\n",
       "      <td>Indianapolis</td>\n",
       "      <td>3.1</td>\n",
       "      <td>103.0</td>\n",
       "    </tr>\n",
       "    <tr>\n",
       "      <th>5</th>\n",
       "      <td>Dallas</td>\n",
       "      <td>3.3</td>\n",
       "      <td>137.0</td>\n",
       "    </tr>\n",
       "    <tr>\n",
       "      <th>6</th>\n",
       "      <td>Miami</td>\n",
       "      <td>3.3</td>\n",
       "      <td>137.0</td>\n",
       "    </tr>\n",
       "    <tr>\n",
       "      <th>7</th>\n",
       "      <td>Raleigh</td>\n",
       "      <td>3.3</td>\n",
       "      <td>137.0</td>\n",
       "    </tr>\n",
       "    <tr>\n",
       "      <th>8</th>\n",
       "      <td>Atlanta</td>\n",
       "      <td>3.6</td>\n",
       "      <td>181.0</td>\n",
       "    </tr>\n",
       "    <tr>\n",
       "      <th>9</th>\n",
       "      <td>Newark</td>\n",
       "      <td>3.6</td>\n",
       "      <td>181.0</td>\n",
       "    </tr>\n",
       "    <tr>\n",
       "      <th>10</th>\n",
       "      <td>Denver</td>\n",
       "      <td>3.7</td>\n",
       "      <td>194.0</td>\n",
       "    </tr>\n",
       "    <tr>\n",
       "      <th>11</th>\n",
       "      <td>Philadelphia</td>\n",
       "      <td>3.7</td>\n",
       "      <td>194.0</td>\n",
       "    </tr>\n",
       "    <tr>\n",
       "      <th>12</th>\n",
       "      <td>Pittsburgh</td>\n",
       "      <td>3.9</td>\n",
       "      <td>226.0</td>\n",
       "    </tr>\n",
       "    <tr>\n",
       "      <th>13</th>\n",
       "      <td>Chicago</td>\n",
       "      <td>4.0</td>\n",
       "      <td>239.0</td>\n",
       "    </tr>\n",
       "    <tr>\n",
       "      <th>14</th>\n",
       "      <td>Columbus</td>\n",
       "      <td>4.0</td>\n",
       "      <td>239.0</td>\n",
       "    </tr>\n",
       "    <tr>\n",
       "      <th>15</th>\n",
       "      <td>Los Angeles</td>\n",
       "      <td>4.2</td>\n",
       "      <td>264.0</td>\n",
       "    </tr>\n",
       "    <tr>\n",
       "      <th>16</th>\n",
       "      <td>Columbus</td>\n",
       "      <td>4.4</td>\n",
       "      <td>278.0</td>\n",
       "    </tr>\n",
       "  </tbody>\n",
       "</table>\n",
       "</div>"
      ],
      "text/plain": [
       "   Metropolitan area  2018 Rate   Rank\n",
       "0          Nashville        2.3   16.0\n",
       "1             Boston        2.4   21.0\n",
       "2           Columbus        2.5   28.0\n",
       "3         Washington        2.9   80.0\n",
       "4       Indianapolis        3.1  103.0\n",
       "5             Dallas        3.3  137.0\n",
       "6              Miami        3.3  137.0\n",
       "7            Raleigh        3.3  137.0\n",
       "8            Atlanta        3.6  181.0\n",
       "9             Newark        3.6  181.0\n",
       "10            Denver        3.7  194.0\n",
       "11      Philadelphia        3.7  194.0\n",
       "12        Pittsburgh        3.9  226.0\n",
       "13           Chicago        4.0  239.0\n",
       "14          Columbus        4.0  239.0\n",
       "15       Los Angeles        4.2  264.0\n",
       "16          Columbus        4.4  278.0"
      ]
     },
     "execution_count": 26,
     "metadata": {},
     "output_type": "execute_result"
    }
   ],
   "source": [
    "# Rename column\n",
    "bls_top_20.rename(columns={'December 2018(p)rate': '2018 Rate'}, inplace=True)\n",
    "bls_top_20"
   ]
  },
  {
   "cell_type": "code",
   "execution_count": 27,
   "metadata": {},
   "outputs": [
    {
     "name": "stderr",
     "output_type": "stream",
     "text": [
      "/anaconda3/lib/python3.6/site-packages/pandas/core/frame.py:3697: SettingWithCopyWarning: \n",
      "A value is trying to be set on a copy of a slice from a DataFrame\n",
      "\n",
      "See the caveats in the documentation: http://pandas.pydata.org/pandas-docs/stable/indexing.html#indexing-view-versus-copy\n",
      "  errors=errors)\n"
     ]
    },
    {
     "name": "stdout",
     "output_type": "stream",
     "text": [
      "Washington\n",
      "20\n",
      "['Atlanta', 'Austin', 'Boston', 'Chicago', 'Columbus', 'Dallas', 'Denver', 'Indianapolis', 'Los Angeles', 'Miami', 'Montgomery County', 'Nashville', 'Newark', 'New York', 'Northern Virginia', 'Philadelphia', 'Pittsburgh', 'Raleigh', 'Toronto', 'Washington']\n",
      "   Metropolitan area  2018 Rate   Rank\n",
      "8            Atlanta        3.6  181.0\n",
      "1             Boston        2.4   21.0\n",
      "13           Chicago        4.0  239.0\n",
      "14          Columbus        4.0  239.0\n",
      "5             Dallas        3.3  137.0\n",
      "10            Denver        3.7  194.0\n",
      "4       Indianapolis        3.1  103.0\n",
      "15       Los Angeles        4.2  264.0\n",
      "6              Miami        3.3  137.0\n",
      "0          Nashville        2.3   16.0\n",
      "9             Newark        3.6  181.0\n",
      "11      Philadelphia        3.7  194.0\n",
      "12        Pittsburgh        3.9  226.0\n",
      "7            Raleigh        3.3  137.0\n",
      "3         Washington        2.9   80.0\n"
     ]
    },
    {
     "data": {
      "image/png": "[encoded data removed]",
      "text/plain": [
       "<Figure size 432x288 with 1 Axes>"
      ]
     },
     "metadata": {
      "needs_background": "light"
     },
     "output_type": "display_data"
    }
   ],
   "source": [
    "bls_top_20.dropna()\n",
    "bls_top_20.set_index('Metropolitan area').plot.bar(y='2018 Rate', title='BLS Unemployment Rate')\n",
    "\n",
    "# Drop the redundant Columbus cities\n",
    "bls_top_20.drop(index=[2, 16], inplace=True)\n",
    "if city not in bls_top_20['Metropolitan area']:\n",
    "    print(city)\n",
    "    \n",
    "print(len(top_20))\n",
    "print(top_20)\n",
    "print(bls_top_20.sort_values(by='Metropolitan area'))\n",
    "# Some cities are missing..."
   ]
  },
  {
   "cell_type": "code",
   "execution_count": 28,
   "metadata": {},
   "outputs": [],
   "source": [
    "bls_top_20.set_index('Metropolitan area', drop=True, inplace=True)"
   ]
  },
  {
   "cell_type": "code",
   "execution_count": 29,
   "metadata": {},
   "outputs": [],
   "source": [
    "bls_top_20.rename(index={'Newark': 'New York/Newark'}, inplace=True)"
   ]
  },
  {
   "cell_type": "code",
   "execution_count": 30,
   "metadata": {},
   "outputs": [],
   "source": [
    "# Let's drop the useless rank column\n",
    "bls_top_20.drop(columns='Rank', inplace=True)"
   ]
  },
  {
   "cell_type": "code",
   "execution_count": 31,
   "metadata": {},
   "outputs": [
    {
     "name": "stdout",
     "output_type": "stream",
     "text": [
      "                   2018 Rate\n",
      "Metropolitan area           \n",
      "Nashville                2.3\n",
      "Boston                   2.4\n",
      "Washington               2.9\n",
      "Indianapolis             3.1\n",
      "Dallas                   3.3\n",
      "Miami                    3.3\n",
      "Raleigh                  3.3\n",
      "Atlanta                  3.6\n",
      "New York/Newark          3.6\n",
      "Denver                   3.7\n",
      "Philadelphia             3.7\n",
      "Pittsburgh               3.9\n",
      "Chicago                  4.0\n",
      "Columbus                 4.0\n",
      "Los Angeles              4.2\n",
      "Austin                   2.7\n",
      "Northern Virginia        3.2\n",
      "Montgomery County        3.7\n",
      "Toronto                  6.0\n"
     ]
    },
    {
     "name": "stderr",
     "output_type": "stream",
     "text": [
      "/anaconda3/lib/python3.6/site-packages/ipykernel_launcher.py:2: SettingWithCopyWarning: \n",
      "A value is trying to be set on a copy of a slice from a DataFrame\n",
      "\n",
      "See the caveats in the documentation: http://pandas.pydata.org/pandas-docs/stable/indexing.html#indexing-view-versus-copy\n",
      "  \n"
     ]
    }
   ],
   "source": [
    "# Adding Austin \n",
    "bls_top_20.loc['Austin','2018 Rate'] = 2.7\n",
    "# rate of arlington-washington area = 2.9 and rate of baltimore area = 3.5\n",
    "# So for northern virginia we use the average\n",
    "bls_top_20.loc['Northern Virginia','2018 Rate'] = (2.9 + 3.5)/2 \n",
    "# Montomery county is so close to Philadelphia we will assign the same unemployment rate\n",
    "bls_top_20.loc['Montgomery County','2018 Rate'] = 3.7 \n",
    "# Adding toronto, Dec 2018: https://www150.statcan.gc.ca/t1/tbl1/en/tv.action?pid=1410029401\n",
    "bls_top_20.loc['Toronto','2018 Rate'] = 6.0 \n",
    "\n",
    "print(bls_top_20)"
   ]
  },
  {
   "cell_type": "markdown",
   "metadata": {},
   "source": [
    "## Analysis and Visualization"
   ]
  },
  {
   "cell_type": "code",
   "execution_count": 58,
   "metadata": {},
   "outputs": [],
   "source": [
    "# Now that we have an overview let's set up a colormap\n",
    "import seaborn as sns\n",
    "\n",
    "# Create the color map based on the unique State names using seaborn presets\n",
    "color_labels = bls_top_20.index.unique()\n",
    "rgb_values = sns.color_palette(\"Set2\", len(bls_top_20.index.unique()))\n",
    "color_map = dict(zip(color_labels, rgb_values))"
   ]
  },
  {
   "cell_type": "code",
   "execution_count": 40,
   "metadata": {
    "scrolled": false
   },
   "outputs": [
    {
     "data": {
      "image/png": "[encoded data removed]",
      "text/plain": [
       "<Figure size 720x360 with 1 Axes>"
      ]
     },
     "metadata": {
      "needs_background": "light"
     },
     "output_type": "display_data"
    }
   ],
   "source": [
    "# Finally, let's plot the unemployment rate:\n",
    "bls_top_20 = bls_top_20.sort_values(by='2018 Rate')\n",
    "bls_top_20.plot.bar(y='2018 Rate', legend=False, rot=80, color=bls_top_20.index.map(color_map), figsize=(10,5))\n",
    "# df_top_20.plot.bar(y='2017estimate', color=df_top_20.index.map(color_map), rot=80, legend=False, figsize=(10,5))\n",
    "\n",
    "# Some formatting\n",
    "plt.xlabel(None)\n",
    "plt.ylabel('Unemployment Rate (%)')\n",
    "\n",
    "plt.savefig('Charts/unemployment_rate.png', bbox_inches='tight')\n",
    "plt.show()\n"
   ]
  },
  {
   "cell_type": "code",
   "execution_count": 41,
   "metadata": {},
   "outputs": [
    {
     "name": "stdout",
     "output_type": "stream",
     "text": [
      "Newark\n",
      "New York\n"
     ]
    }
   ],
   "source": [
    "# Checking if any cities were missed\n",
    "# NY/ Newark are lumped together by the data\n",
    "# We assumed montgomery county had the same unemployment rate as Philly\n",
    "for city in top_20:\n",
    "    if city not in bls_top_20.index:\n",
    "        print(city)\n",
    "        \n",
    "# Good to go!"
   ]
  },
  {
   "cell_type": "markdown",
   "metadata": {},
   "source": [
    "## Experiment to see how these two would look stacked"
   ]
  },
  {
   "cell_type": "code",
   "execution_count": 59,
   "metadata": {},
   "outputs": [
    {
     "data": {
      "text/plain": [
       "<matplotlib.axes._subplots.AxesSubplot at 0x11e327048>"
      ]
     },
     "execution_count": 59,
     "metadata": {},
     "output_type": "execute_result"
    },
    {
     "data": {
      "image/png": "[encoded data removed]",
      "text/plain": [
       "<Figure size 720x360 with 2 Axes>"
      ]
     },
     "metadata": {
      "needs_background": "light"
     },
     "output_type": "display_data"
    }
   ],
   "source": [
    "fig, axarr = plt.subplots(2)\n",
    "bls_top_20.plot.bar(ax=axarr[0], y='2018 Rate', legend=False, rot=80, color=bls_top_20.index.map(color_map), figsize=(10,5))\n",
    "\n",
    "\n",
    "# Create the color map based on the unique State names using seaborn presets\n",
    "color_labels = df_top_20.index.unique()\n",
    "rgb_values = sns.color_palette(\"Set2\", len(df_top_20.index.unique()))\n",
    "color_map = dict(zip(color_labels, rgb_values))\n",
    "\n",
    "df_top_20.plot.bar(ax=axarr[1], y='2017estimate', color=df_top_20.index.map(color_map), rot=80, legend=False, figsize=(10,5))\n"
   ]
  }
 ],
 "metadata": {
  "kernelspec": {
   "display_name": "Python 3",
   "language": "python",
   "name": "python3"
  },
  "language_info": {
   "codemirror_mode": {
    "name": "ipython",
    "version": 3
   },
   "file_extension": ".py",
   "mimetype": "text/x-python",
   "name": "python",
   "nbconvert_exporter": "python",
   "pygments_lexer": "ipython3",
   "version": "3.6.8"
  }
 },
 "nbformat": 4,
 "nbformat_minor": 2
}
