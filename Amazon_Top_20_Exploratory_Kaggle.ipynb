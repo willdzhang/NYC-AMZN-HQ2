{
 "cells": [
  {
   "cell_type": "code",
   "execution_count": 27,
   "metadata": {},
   "outputs": [],
   "source": [
    "import pandas as pd\n",
    "import matplotlib.pyplot as plt\n",
    "import numpy as np"
   ]
  },
  {
   "cell_type": "code",
   "execution_count": 28,
   "metadata": {},
   "outputs": [
    {
     "data": {
      "text/plain": [
       "'\\nDataset source: https://www.kaggle.com/PromptCloudHQ/us-jobs-on-monstercom/version/1\\n'"
      ]
     },
     "execution_count": 28,
     "metadata": {},
     "output_type": "execute_result"
    }
   ],
   "source": [
    "'''\n",
    "Dataset source: https://www.kaggle.com/PromptCloudHQ/us-jobs-on-monstercom/version/1\n",
    "'''"
   ]
  },
  {
   "cell_type": "code",
   "execution_count": 4,
   "metadata": {},
   "outputs": [],
   "source": [
    "# List of top 20 short list from Amazon\n",
    "# https://www.nytimes.com/2018/01/18/technology/cities-amazon-headquarters.html?module=inline\n",
    "top_20 = [{'Atlanta': 'GA', 'Austin' :'TX', 'Boston': 'MA', 'Chicago': 'IL', 'Columbus': 'OH', 'Dallas': 'TX', 'Denver': 'CO', 'Indianapolis': 'IN', 'Los Angeles': 'CA', 'Miami': 'FL', 'Montgomery County': 'MD', 'Nashville': 'TN', 'Newark': 'NJ', 'New York': 'NY', 'Northern Virginia': 'VA', 'Philadelphia': 'PA', 'Pittsburgh': 'PA', 'Raleigh': 'NC', 'Toronto': 'Ontario', 'Washington': 'D.C.'}]\n",
    "\n"
   ]
  },
  {
   "cell_type": "code",
   "execution_count": 5,
   "metadata": {},
   "outputs": [],
   "source": [
    "csvpath = 'CSV/monster_com-job_sample.csv'\n",
    "df = pd.read_csv(csvpath)"
   ]
  },
  {
   "cell_type": "code",
   "execution_count": 44,
   "metadata": {},
   "outputs": [
    {
     "data": {
      "text/html": [
       "<div>\n",
       "<style scoped>\n",
       "    .dataframe tbody tr th:only-of-type {\n",
       "        vertical-align: middle;\n",
       "    }\n",
       "\n",
       "    .dataframe tbody tr th {\n",
       "        vertical-align: top;\n",
       "    }\n",
       "\n",
       "    .dataframe thead th {\n",
       "        text-align: right;\n",
       "    }\n",
       "</style>\n",
       "<table border=\"1\" class=\"dataframe\">\n",
       "  <thead>\n",
       "    <tr style=\"text-align: right;\">\n",
       "      <th></th>\n",
       "      <th>country</th>\n",
       "      <th>job_title</th>\n",
       "      <th>job_type</th>\n",
       "      <th>location</th>\n",
       "      <th>organization</th>\n",
       "      <th>salary</th>\n",
       "      <th>sector</th>\n",
       "    </tr>\n",
       "  </thead>\n",
       "  <tbody>\n",
       "    <tr>\n",
       "      <th>0</th>\n",
       "      <td>United States of America</td>\n",
       "      <td>IT Support Technician Job in Madison</td>\n",
       "      <td>Full Time Employee</td>\n",
       "      <td>Madison, WI 53702</td>\n",
       "      <td>NaN</td>\n",
       "      <td>NaN</td>\n",
       "      <td>IT/Software Development</td>\n",
       "    </tr>\n",
       "    <tr>\n",
       "      <th>1</th>\n",
       "      <td>United States of America</td>\n",
       "      <td>Business Reporter/Editor Job in Madison</td>\n",
       "      <td>Full Time</td>\n",
       "      <td>Madison, WI 53708</td>\n",
       "      <td>Printing and Publishing</td>\n",
       "      <td>NaN</td>\n",
       "      <td>NaN</td>\n",
       "    </tr>\n",
       "    <tr>\n",
       "      <th>2</th>\n",
       "      <td>United States of America</td>\n",
       "      <td>Johnson &amp; Johnson Family of Companies Job Appl...</td>\n",
       "      <td>Full Time, Employee</td>\n",
       "      <td>DePuy Synthes Companies is a member of Johnson...</td>\n",
       "      <td>Personal and Household Services</td>\n",
       "      <td>NaN</td>\n",
       "      <td>NaN</td>\n",
       "    </tr>\n",
       "    <tr>\n",
       "      <th>3</th>\n",
       "      <td>United States of America</td>\n",
       "      <td>Engineer - Quality Job in Dixon</td>\n",
       "      <td>Full Time</td>\n",
       "      <td>Dixon, CA</td>\n",
       "      <td>Altec Industries</td>\n",
       "      <td>NaN</td>\n",
       "      <td>Experienced (Non-Manager)</td>\n",
       "    </tr>\n",
       "    <tr>\n",
       "      <th>4</th>\n",
       "      <td>United States of America</td>\n",
       "      <td>Shift Supervisor - Part-Time Job in Camphill</td>\n",
       "      <td>Full Time Employee</td>\n",
       "      <td>Camphill, PA</td>\n",
       "      <td>Retail</td>\n",
       "      <td>NaN</td>\n",
       "      <td>Project/Program Management</td>\n",
       "    </tr>\n",
       "  </tbody>\n",
       "</table>\n",
       "</div>"
      ],
      "text/plain": [
       "                    country  \\\n",
       "0  United States of America   \n",
       "1  United States of America   \n",
       "2  United States of America   \n",
       "3  United States of America   \n",
       "4  United States of America   \n",
       "\n",
       "                                           job_title             job_type  \\\n",
       "0               IT Support Technician Job in Madison   Full Time Employee   \n",
       "1            Business Reporter/Editor Job in Madison            Full Time   \n",
       "2  Johnson & Johnson Family of Companies Job Appl...  Full Time, Employee   \n",
       "3                    Engineer - Quality Job in Dixon            Full Time   \n",
       "4       Shift Supervisor - Part-Time Job in Camphill   Full Time Employee   \n",
       "\n",
       "                                            location  \\\n",
       "0                                  Madison, WI 53702   \n",
       "1                                  Madison, WI 53708   \n",
       "2  DePuy Synthes Companies is a member of Johnson...   \n",
       "3                                          Dixon, CA   \n",
       "4                                       Camphill, PA   \n",
       "\n",
       "                      organization salary                      sector  \n",
       "0                              NaN    NaN     IT/Software Development  \n",
       "1          Printing and Publishing    NaN                         NaN  \n",
       "2  Personal and Household Services    NaN                         NaN  \n",
       "3                 Altec Industries    NaN   Experienced (Non-Manager)  \n",
       "4                           Retail    NaN  Project/Program Management  "
      ]
     },
     "execution_count": 44,
     "metadata": {},
     "output_type": "execute_result"
    }
   ],
   "source": [
    "df = df[['country','job_title','job_type','location','organization','salary','sector']]\n",
    "df.head()"
   ]
  },
  {
   "cell_type": "code",
   "execution_count": 7,
   "metadata": {},
   "outputs": [
    {
     "data": {
      "text/html": [
       "<div>\n",
       "<style scoped>\n",
       "    .dataframe tbody tr th:only-of-type {\n",
       "        vertical-align: middle;\n",
       "    }\n",
       "\n",
       "    .dataframe tbody tr th {\n",
       "        vertical-align: top;\n",
       "    }\n",
       "\n",
       "    .dataframe thead th {\n",
       "        text-align: right;\n",
       "    }\n",
       "</style>\n",
       "<table border=\"1\" class=\"dataframe\">\n",
       "  <thead>\n",
       "    <tr style=\"text-align: right;\">\n",
       "      <th></th>\n",
       "      <th>country</th>\n",
       "      <th>job_title</th>\n",
       "      <th>job_type</th>\n",
       "      <th>location</th>\n",
       "      <th>organization</th>\n",
       "      <th>salary</th>\n",
       "      <th>sector</th>\n",
       "    </tr>\n",
       "  </thead>\n",
       "  <tbody>\n",
       "    <tr>\n",
       "      <th>7</th>\n",
       "      <td>United States of America</td>\n",
       "      <td>Mailroom Clerk Job in Austin</td>\n",
       "      <td>Full Time Employee</td>\n",
       "      <td>Austin, TX 73301</td>\n",
       "      <td>NaN</td>\n",
       "      <td>NaN</td>\n",
       "      <td>Experienced (Non-Manager)</td>\n",
       "    </tr>\n",
       "    <tr>\n",
       "      <th>8</th>\n",
       "      <td>United States of America</td>\n",
       "      <td>Housekeeper Job in Austin</td>\n",
       "      <td>Part Time Employee</td>\n",
       "      <td>Austin, TX 78746</td>\n",
       "      <td>Hotels and Lodging Personal and Household Serv...</td>\n",
       "      <td>NaN</td>\n",
       "      <td>Customer Support/Client Care</td>\n",
       "    </tr>\n",
       "    <tr>\n",
       "      <th>11</th>\n",
       "      <td>United States of America</td>\n",
       "      <td>Sales Associate Job in Columbus</td>\n",
       "      <td>Full Time Employee</td>\n",
       "      <td>Columbus, IN</td>\n",
       "      <td>Business Services - Other</td>\n",
       "      <td>NaN</td>\n",
       "      <td>Customer Support/Client Care</td>\n",
       "    </tr>\n",
       "    <tr>\n",
       "      <th>12</th>\n",
       "      <td>United States of America</td>\n",
       "      <td>Junior Proofreader Job in Boston</td>\n",
       "      <td>Full Time</td>\n",
       "      <td>Boston, MA</td>\n",
       "      <td>NaN</td>\n",
       "      <td>NaN</td>\n",
       "      <td>NaN</td>\n",
       "    </tr>\n",
       "    <tr>\n",
       "      <th>17</th>\n",
       "      <td>United States of America</td>\n",
       "      <td>Pest Control Technician – Field Service Rep (E...</td>\n",
       "      <td>Full Time, Employee</td>\n",
       "      <td>Denver, CO</td>\n",
       "      <td>Accounting and Auditing Services</td>\n",
       "      <td>NaN</td>\n",
       "      <td>Installation/Maintenance/Repair</td>\n",
       "    </tr>\n",
       "  </tbody>\n",
       "</table>\n",
       "</div>"
      ],
      "text/plain": [
       "                     country  \\\n",
       "7   United States of America   \n",
       "8   United States of America   \n",
       "11  United States of America   \n",
       "12  United States of America   \n",
       "17  United States of America   \n",
       "\n",
       "                                            job_title             job_type  \\\n",
       "7                        Mailroom Clerk Job in Austin   Full Time Employee   \n",
       "8                           Housekeeper Job in Austin   Part Time Employee   \n",
       "11                    Sales Associate Job in Columbus   Full Time Employee   \n",
       "12                   Junior Proofreader Job in Boston            Full Time   \n",
       "17  Pest Control Technician – Field Service Rep (E...  Full Time, Employee   \n",
       "\n",
       "            location                                       organization  \\\n",
       "7   Austin, TX 73301                                                NaN   \n",
       "8   Austin, TX 78746  Hotels and Lodging Personal and Household Serv...   \n",
       "11      Columbus, IN                          Business Services - Other   \n",
       "12        Boston, MA                                                NaN   \n",
       "17        Denver, CO                   Accounting and Auditing Services   \n",
       "\n",
       "   salary                           sector  \n",
       "7     NaN        Experienced (Non-Manager)  \n",
       "8     NaN     Customer Support/Client Care  \n",
       "11    NaN     Customer Support/Client Care  \n",
       "12    NaN                              NaN  \n",
       "17    NaN  Installation/Maintenance/Repair  "
      ]
     },
     "execution_count": 7,
     "metadata": {},
     "output_type": "execute_result"
    }
   ],
   "source": [
    "df_top_20 = df[df['location'].str.contains('|'.join(top_20))]\n",
    "df_top_20.head()"
   ]
  },
  {
   "cell_type": "code",
   "execution_count": 8,
   "metadata": {},
   "outputs": [
    {
     "name": "stderr",
     "output_type": "stream",
     "text": [
      "/anaconda3/lib/python3.6/site-packages/pandas/core/indexing.py:189: SettingWithCopyWarning: \n",
      "A value is trying to be set on a copy of a slice from a DataFrame\n",
      "\n",
      "See the caveats in the documentation: http://pandas.pydata.org/pandas-docs/stable/indexing.html#indexing-view-versus-copy\n",
      "  self._setitem_with_indexer(indexer, value)\n",
      "/anaconda3/lib/python3.6/site-packages/ipykernel_launcher.py:3: SettingWithCopyWarning: \n",
      "A value is trying to be set on a copy of a slice from a DataFrame\n",
      "\n",
      "See the caveats in the documentation: http://pandas.pydata.org/pandas-docs/stable/indexing.html#indexing-view-versus-copy\n",
      "  This is separate from the ipykernel package so we can avoid doing imports until\n"
     ]
    }
   ],
   "source": [
    "#df_top_20['location'].value_counts()[:100]\n",
    "for city in top_20:\n",
    "    df_top_20.loc[df_top_20['location'].str.contains(city, case=False), 'location'] = city\n",
    "        "
   ]
  },
  {
   "cell_type": "code",
   "execution_count": 34,
   "metadata": {},
   "outputs": [
    {
     "data": {
      "image/png": "[encoded data removed]",
      "text/plain": [
       "<Figure size 432x288 with 1 Axes>"
      ]
     },
     "metadata": {
      "needs_background": "light"
     },
     "output_type": "display_data"
    }
   ],
   "source": [
    "# Displaying all job postings per city in the top_20\n",
    "# df_top_20['location'].value_counts().plot.bar()\n",
    "\n",
    "# the data is skewed to Dallas, so here we try to take a sample of 10% \n",
    "df_top_20.sample(frac=0.1)['location'].value_counts().plot.bar()\n",
    "\n",
    "# The sampling does not seem to change much..\n",
    "plt.show()"
   ]
  },
  {
   "cell_type": "code",
   "execution_count": 10,
   "metadata": {},
   "outputs": [],
   "source": [
    "# displaying all postings for 'developer' in the top_20\n",
    "df_dev = df_top_20.loc[df_top_20['job_title'].str.contains('developer',case=False), 'location']"
   ]
  },
  {
   "cell_type": "code",
   "execution_count": 35,
   "metadata": {},
   "outputs": [
    {
     "data": {
      "image/png": "[encoded data removed]",
      "text/plain": [
       "<Figure size 432x288 with 1 Axes>"
      ]
     },
     "metadata": {
      "needs_background": "light"
     },
     "output_type": "display_data"
    }
   ],
   "source": [
    "# here we try the sampling again, but with just developers\n",
    "df_dev.sample(frac = 0.5).value_counts().plot.bar()\n",
    "\n",
    "# A little better, but not great\n",
    "plt.show()"
   ]
  },
  {
   "cell_type": "code",
   "execution_count": null,
   "metadata": {},
   "outputs": [],
   "source": []
  }
 ],
 "metadata": {
  "kernelspec": {
   "display_name": "Python 3",
   "language": "python",
   "name": "python3"
  },
  "language_info": {
   "codemirror_mode": {
    "name": "ipython",
    "version": 3
   },
   "file_extension": ".py",
   "mimetype": "text/x-python",
   "name": "python",
   "nbconvert_exporter": "python",
   "pygments_lexer": "ipython3",
   "version": "3.6.8"
  }
 },
 "nbformat": 4,
 "nbformat_minor": 2
}
